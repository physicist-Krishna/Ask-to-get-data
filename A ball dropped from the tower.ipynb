{
 "cells": [
  {
   "cell_type": "code",
   "execution_count": 1,
   "metadata": {},
   "outputs": [
    {
     "name": "stdout",
     "output_type": "stream",
     "text": [
      "Enter the height of the tower:100\n",
      "Enter the time interval:1\n",
      "The height of the ball is 95.1 meters\n"
     ]
    }
   ],
   "source": [
    "g = 9.8 # acceleration due to gravity in SI unit\n",
    "\n",
    "h = float(input('Enter the height of the tower:'))  \n",
    "t = float(input('Enter the time interval:'))\n",
    "\n",
    "s = (g*t**2)/2\n",
    "\n",
    "print('The height of the ball is',h-s, 'meters')"
   ]
  },
  {
   "cell_type": "code",
   "execution_count": 2,
   "metadata": {},
   "outputs": [
    {
     "name": "stdout",
     "output_type": "stream",
     "text": [
      "Enter the height of the tower:100\n",
      "The time to reach the ground is 4.5175395145262565  second\n"
     ]
    }
   ],
   "source": [
    "# Another ball dropped from a tower\n",
    "\n",
    "import numpy as np\n",
    "\n",
    "g = 9.8 # acceleration due to gravity in SI unit\n",
    "\n",
    "h = float(input('Enter the height of the tower:'))\n",
    "\n",
    "time = np.sqrt(2*h/g)\n",
    "\n",
    "print('The time to reach the ground is', time, ' second')"
   ]
  },
  {
   "cell_type": "code",
   "execution_count": null,
   "metadata": {},
   "outputs": [],
   "source": []
  }
 ],
 "metadata": {
  "kernelspec": {
   "display_name": "Python 3 (ipykernel)",
   "language": "python",
   "name": "python3"
  },
  "language_info": {
   "codemirror_mode": {
    "name": "ipython",
    "version": 3
   },
   "file_extension": ".py",
   "mimetype": "text/x-python",
   "name": "python",
   "nbconvert_exporter": "python",
   "pygments_lexer": "ipython3",
   "version": "3.9.7"
  }
 },
 "nbformat": 4,
 "nbformat_minor": 2
}
